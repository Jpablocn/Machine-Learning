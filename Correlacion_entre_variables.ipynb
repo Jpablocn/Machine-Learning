{
 "cells": [
  {
   "cell_type": "code",
   "execution_count": null,
   "metadata": {
    "id": "SBRkZ13jxgWS"
   },
   "outputs": [],
   "source": [
    "# Get Numerical features from dataset, - la primera linea, lo saque de otro codigo\n",
    "numerics = ['int16', 'int32','int64', 'float16', 'float32', 'float64']\n",
    "numerical_features = list(database.select_dtypes(include=numerics).columns)\n",
    "data = database[numerical_features]\n",
    "data.head()"
   ]
  },
  {
   "cell_type": "code",
   "execution_count": null,
   "metadata": {
    "id": "2GMdO_cTxk0i"
   },
   "outputs": [],
   "source": [
    "# Definimos el dataframe a correlacionar\n",
    "\n",
    "X = database\n",
    "print(X.shape)\n",
    "\n",
    "# Es posible ocupar otra variable\n",
    "y = database['Rectus femorisL']\n",
    "print(y.shape)"
   ]
  },
  {
   "cell_type": "code",
   "execution_count": null,
   "metadata": {
    "id": "zPovTvqtxnxa"
   },
   "outputs": [],
   "source": [
    "# Separo entre Train - Test\n",
    "\n",
    "X_train, X_test, y_train, y_test = train_test_split(X, y, test_size=0.3, random_state=101)\n",
    "X_train.shape, y_train.shape, X_test.shape, y_test.shape"
   ]
  },
  {
   "cell_type": "code",
   "execution_count": null,
   "metadata": {
    "id": "JppBGUaDxpVp"
   },
   "outputs": [],
   "source": [
    "# Creamos un dataframe con correlaciones entre las variables\n",
    "\n",
    "corr_matrix = X_train.corr()\n",
    "\n",
    "# Peroo, tomamos los valores como positivos \n",
    "corr_matrix = corr_matrix.abs().unstack()\n",
    "corr_matrix = corr_matrix.sort_values(ascending=False)\n",
    "\n",
    "\n",
    "# Filtro sobre todas las varaibles con correlación mayores que 0.9 (podriamos tomar un 0.8 para mas datos)\n",
    "\n",
    "corr_matrix = corr_matrix[corr_matrix >= 0.8]\n",
    "corr_matrix = corr_matrix[corr_matrix < 1]\n",
    "corr_matrix = pd.DataFrame(corr_matrix).reset_index()\n",
    "corr_matrix.columns = ['Variable 1', 'variable 2', 'Correlacion']\n",
    "corr_matrix.head(10)"
   ]
  }
 ],
 "metadata": {
  "colab": {
   "collapsed_sections": [],
   "name": "Correlacion entre variables.ipynb",
   "provenance": []
  },
  "kernelspec": {
   "display_name": "Python 3",
   "language": "python",
   "name": "python3"
  },
  "language_info": {
   "codemirror_mode": {
    "name": "ipython",
    "version": 3
   },
   "file_extension": ".py",
   "mimetype": "text/x-python",
   "name": "python",
   "nbconvert_exporter": "python",
   "pygments_lexer": "ipython3",
   "version": "3.8.8"
  }
 },
 "nbformat": 4,
 "nbformat_minor": 1
}
