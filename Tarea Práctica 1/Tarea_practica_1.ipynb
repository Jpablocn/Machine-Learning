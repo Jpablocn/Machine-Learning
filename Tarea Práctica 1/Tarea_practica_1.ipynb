{
  "nbformat": 4,
  "nbformat_minor": 0,
  "metadata": {
    "colab": {
      "name": "Tarea_practica_1.ipynb",
      "provenance": []
    },
    "kernelspec": {
      "name": "python3",
      "display_name": "Python 3"
    },
    "language_info": {
      "name": "python"
    }
  },
  "cells": [
    {
      "cell_type": "code",
      "metadata": {
        "colab": {
          "base_uri": "https://localhost:8080/"
        },
        "id": "B5TO0_rnOq1z",
        "outputId": "ac4476d0-7cbf-489e-8f6d-f27f43435a80"
      },
      "source": [
        "import pandas as pd\n",
        "import numpy as np\n",
        "  \n",
        "df_test = pd.read_csv('data_golf_test.csv')  \n",
        "df_train = pd.read_csv('data_golf_train.csv')    \n",
        "\n",
        "print('Datos Train: \\n', df_train)\n",
        "print('Datos Test: \\n', df_test.head)"
      ],
      "execution_count": null,
      "outputs": [
        {
          "output_type": "stream",
          "text": [
            "Datos Train: \n",
            "      Outlook  Temperature  Humidity  Windy Play\n",
            "0      Sunny         30.5        90  False   No\n",
            "1      Sunny         29.0        82   True   No\n",
            "2   Overcast         28.2        95  False  Yes\n",
            "3       Rain         21.0        86  False  Yes\n",
            "4       Rain          5.3        60  False  Yes\n",
            "5       Rain          8.8        63   True   No\n",
            "6   Overcast          0.0        55   True  Yes\n",
            "7      Sunny         17.0        80  False   No\n",
            "8      Sunny          7.0        65  False  Yes\n",
            "9       Rain         15.4        70  False  Yes\n",
            "10     Sunny         16.0        59   True  Yes\n",
            "11  Overcast         19.5        85   True  Yes\n",
            "12  Overcast         31.0        55  False  Yes\n",
            "13      Rain         20.0        88   True   No\n",
            "Datos Test: \n",
            " <bound method NDFrame.head of   Outlook  Temperature  Humidity  Windy\n",
            "0   Sunny           20        50  False\n",
            "1   Sunny           30        50   True\n",
            "2    Rain           10        60  False\n",
            "3    Rain           20        60   True>\n"
          ],
          "name": "stdout"
        }
      ]
    },
    {
      "cell_type": "markdown",
      "metadata": {
        "id": "s-5GVJgTRMvN"
      },
      "source": [
        "Implemente el Naïve Bayes Classifier. Para implementar el algoritmo, debe encontrar las probabilidades $P(x_j\\vert C_i)$ $\\forall i\\in\\{1,2\\}$, $\\forall j\\in\\{1,\\ldots,n\\}$. \n",
        "Para las variables categóricas, se deben encontrar las tablas de probabilidades condicionales, mientras que para las variables numéricas, debe asumir que $x_j\\rvert C_i\\sim \\mathcal{N}(\\mu,\\sigma^2)$, y estimar $\\mu$ y $\\sigma$ para cada clase con los estimadores usuales."
      ]
    },
    {
      "cell_type": "code",
      "metadata": {
        "id": "wjq1RNdZa3-8"
      },
      "source": [
        "df_train_cat = df_train[['Outlook', 'Windy', 'Play']]\n",
        "df_train_num = df_train[['Temperature', 'Humidity', 'Play']]\n"
      ],
      "execution_count": null,
      "outputs": []
    },
    {
      "cell_type": "code",
      "metadata": {
        "colab": {
          "base_uri": "https://localhost:8080/"
        },
        "id": "BXprCfvYqWoi",
        "outputId": "64f094f0-dd26-4a3f-a2b1-cc74fd12e02f"
      },
      "source": [
        "#prior= df_train.groupby('Play').size().div(len(df_train))\n",
        "#prior\n",
        "#df_train.groupby(['Play', 'Outlook']).size().div(len(df_train)).div(prior)\n",
        "#data.groupby(['Buys_Computer', 'Credit_Rating']).size().div(len(data)).div(prior)\n",
        "\n",
        "df_train.groupby(['Play', 'Outlook']).size().div(len(df_train)).div(df_train.groupby('Play').size().div(len(df_train)))"
      ],
      "execution_count": null,
      "outputs": [
        {
          "output_type": "execute_result",
          "data": {
            "text/plain": [
              "Play  Outlook \n",
              "No    Rain        0.400000\n",
              "      Sunny       0.600000\n",
              "Yes   Overcast    0.444444\n",
              "      Rain        0.333333\n",
              "      Sunny       0.222222\n",
              "dtype: float64"
            ]
          },
          "metadata": {
            "tags": []
          },
          "execution_count": 5
        }
      ]
    },
    {
      "cell_type": "code",
      "metadata": {
        "colab": {
          "base_uri": "https://localhost:8080/"
        },
        "id": "tXbRQRSxx3a5",
        "outputId": "7411e9bf-c743-4eb1-b671-0d17e76a3bc0"
      },
      "source": [
        "df_train.groupby('Play')['Outlook'].value_counts() / df_train.groupby('Play')['Outlook'].count()\n"
      ],
      "execution_count": null,
      "outputs": [
        {
          "output_type": "execute_result",
          "data": {
            "text/plain": [
              "Play  Outlook \n",
              "No    Sunny       0.600000\n",
              "      Rain        0.400000\n",
              "Yes   Overcast    0.444444\n",
              "      Rain        0.333333\n",
              "      Sunny       0.222222\n",
              "Name: Outlook, dtype: float64"
            ]
          },
          "metadata": {
            "tags": []
          },
          "execution_count": 7
        }
      ]
    },
    {
      "cell_type": "code",
      "metadata": {
        "colab": {
          "base_uri": "https://localhost:8080/"
        },
        "id": "Z7BXFO2kVnVH",
        "outputId": "e61209fa-6d96-4a20-96cc-d892d1ca3b66"
      },
      "source": [
        "print('Probabilidad Condicional para el atributo Outlook: \\n', df_train.groupby('Outlook')['Play'].value_counts() / df_train.groupby('Outlook')['Play'].count())\n",
        "\n",
        "\n",
        "print('Probabilidad Condicional para el atributo Windy: \\n', df_train.groupby('Windy')['Play'].value_counts() / df_train.groupby('Windy')['Play'].count())"
      ],
      "execution_count": null,
      "outputs": [
        {
          "output_type": "stream",
          "text": [
            "Probabilidad Condicional para el atributo Outlook: \n",
            " Outlook   Play\n",
            "Overcast  Yes     1.0\n",
            "Rain      Yes     0.6\n",
            "          No      0.4\n",
            "Sunny     No      0.6\n",
            "          Yes     0.4\n",
            "Name: Play, dtype: float64\n",
            "Probabilidad Condicional para el atributo Windy: \n",
            " Windy  Play\n",
            "False  Yes     0.75\n",
            "       No      0.25\n",
            "True   No      0.50\n",
            "       Yes     0.50\n",
            "Name: Play, dtype: float64\n"
          ],
          "name": "stdout"
        }
      ]
    },
    {
      "cell_type": "code",
      "metadata": {
        "id": "tLDC0aZWRnYP"
      },
      "source": [
        "print('La media muestral para Temperature y Humidity son, \\n', df_train_num.groupby(['Play']).apply(np.mean).to_numpy())\n",
        "print('\\n')\n",
        "print('La desviación estandar para Temperature y Humidity son, \\n', df_train_num.groupby(['Play']).apply(np.std).to_numpy())"
      ],
      "execution_count": null,
      "outputs": []
    },
    {
      "cell_type": "code",
      "metadata": {
        "id": "9b1cggcRj6TP"
      },
      "source": [
        "from sklearn.naive_bayes import GaussianNB\n",
        "classifier = GaussianNB()\n",
        "classifier.fit(X_train, y_train)"
      ],
      "execution_count": null,
      "outputs": []
    }
  ]
}