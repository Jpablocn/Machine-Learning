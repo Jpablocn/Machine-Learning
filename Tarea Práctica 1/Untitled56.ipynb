{
  "nbformat": 4,
  "nbformat_minor": 0,
  "metadata": {
    "colab": {
      "name": "Untitled56.ipynb",
      "provenance": []
    },
    "kernelspec": {
      "name": "python3",
      "display_name": "Python 3"
    },
    "language_info": {
      "name": "python"
    }
  },
  "cells": [
    {
      "cell_type": "code",
      "metadata": {
        "colab": {
          "base_uri": "https://localhost:8080/"
        },
        "id": "eVHx_CWByOoi",
        "outputId": "63271304-0f7c-459c-ae8c-63b82ca5b4b9"
      },
      "source": [
        "import pandas as pd\n",
        "import numpy as np\n",
        "  \n",
        "df_test = pd.read_csv('data_golf_test.csv')  \n",
        "df_train = pd.read_csv('data_golf_train.csv')    \n",
        "\n",
        "print('Datos Train: \\n', df_train)\n",
        "print('Datos Test: \\n', df_test.head)"
      ],
      "execution_count": null,
      "outputs": [
        {
          "output_type": "stream",
          "text": [
            "Datos Train: \n",
            "      Outlook  Temperature  Humidity  Windy Play\n",
            "0      Sunny         30.5        90  False   No\n",
            "1      Sunny         29.0        82   True   No\n",
            "2   Overcast         28.2        95  False  Yes\n",
            "3       Rain         21.0        86  False  Yes\n",
            "4       Rain          5.3        60  False  Yes\n",
            "5       Rain          8.8        63   True   No\n",
            "6   Overcast          0.0        55   True  Yes\n",
            "7      Sunny         17.0        80  False   No\n",
            "8      Sunny          7.0        65  False  Yes\n",
            "9       Rain         15.4        70  False  Yes\n",
            "10     Sunny         16.0        59   True  Yes\n",
            "11  Overcast         19.5        85   True  Yes\n",
            "12  Overcast         31.0        55  False  Yes\n",
            "13      Rain         20.0        88   True   No\n",
            "Datos Test: \n",
            " <bound method NDFrame.head of   Outlook  Temperature  Humidity  Windy\n",
            "0   Sunny           20        50  False\n",
            "1   Sunny           30        50   True\n",
            "2    Rain           10        60  False\n",
            "3    Rain           20        60   True>\n"
          ],
          "name": "stdout"
        }
      ]
    },
    {
      "cell_type": "markdown",
      "metadata": {
        "id": "cKyvxeinyaVr"
      },
      "source": [
        "Implemente el Naïve Bayes Classifier. Para implementar el algoritmo, debe encontrar las probabilidades $P(x_j\\vert C_i)$ $\\forall i\\in\\{1,2\\}$, $\\forall j\\in\\{1,\\ldots,n\\}$. \n",
        "Para las variables categóricas, se deben encontrar las tablas de probabilidades condicionales, mientras que para las variables numéricas, debe asumir que $x_j\\rvert C_i\\sim \\mathcal{N}(\\mu,\\sigma^2)$, y estimar $\\mu$ y $\\sigma$ para cada clase con los estimadores usuales.\n",
        "\n"
      ]
    },
    {
      "cell_type": "code",
      "metadata": {
        "colab": {
          "base_uri": "https://localhost:8080/"
        },
        "id": "3uPMo8CtyPzg",
        "outputId": "fc0d0075-2780-4627-bab8-ae42c81d1d7f"
      },
      "source": [
        "cond_outlook = df_train.groupby('Play')['Outlook'].value_counts() / df_train.groupby('Play')['Outlook'].count()\n",
        "print('Probabilidad Condicional para el atributo Outlook: \\n', cond_outlook)\n",
        "print('\\n\\n')\n",
        "cond_windy = df_train.groupby('Play')['Windy'].value_counts() / df_train.groupby('Play')['Windy'].count()\n",
        "print('Probabilidad Condicional para el atributo Windy: \\n', cond_windy)\n"
      ],
      "execution_count": null,
      "outputs": [
        {
          "output_type": "stream",
          "text": [
            "Probabilidad Condicional para el atributo Outlook: \n",
            " Play  Outlook \n",
            "No    Sunny       0.600000\n",
            "      Rain        0.400000\n",
            "Yes   Overcast    0.444444\n",
            "      Rain        0.333333\n",
            "      Sunny       0.222222\n",
            "Name: Outlook, dtype: float64\n",
            "\n",
            "\n",
            "\n",
            "Probabilidad Condicional para el atributo Windy: \n",
            " Play  Windy\n",
            "No    True     0.600000\n",
            "      False    0.400000\n",
            "Yes   False    0.666667\n",
            "      True     0.333333\n",
            "Name: Windy, dtype: float64\n"
          ],
          "name": "stdout"
        }
      ]
    },
    {
      "cell_type": "code",
      "metadata": {
        "colab": {
          "base_uri": "https://localhost:8080/"
        },
        "id": "UKNXh7TIzAPG",
        "outputId": "ac42e5dd-3cf5-41bc-d212-21f044b4f04e"
      },
      "source": [
        "df_train_num = df_train[['Temperature', 'Humidity', 'Play']]\n",
        "\n",
        "mean = df_train_num.groupby(['Play']).apply(np.mean)\n",
        "print('La media muestral para Temperature y Humidity son, \\n', df_train_num.groupby(['Play']).apply(np.mean))\n",
        "print('\\n')\n",
        "print('La desviación estandar para Temperature y Humidity son, \\n', df_train_num.groupby(['Play']).apply(np.std))"
      ],
      "execution_count": null,
      "outputs": [
        {
          "output_type": "stream",
          "text": [
            "La media muestral para Temperature y Humidity son, \n",
            "       Temperature  Humidity\n",
            "Play                       \n",
            "No      21.060000      80.6\n",
            "Yes     15.933333      70.0\n",
            "\n",
            "\n",
            "La desviación estandar para Temperature y Humidity son, \n",
            "       Temperature   Humidity\n",
            "Play                        \n",
            "No        8.00090   9.541488\n",
            "Yes       9.79172  14.149990\n"
          ],
          "name": "stdout"
        }
      ]
    },
    {
      "cell_type": "code",
      "metadata": {
        "colab": {
          "base_uri": "https://localhost:8080/",
          "height": 173
        },
        "id": "MRRXoMRVErkv",
        "outputId": "4a21a0c7-5990-4de6-a907-6ccb56ba2ddb"
      },
      "source": [
        "df_test"
      ],
      "execution_count": null,
      "outputs": [
        {
          "output_type": "execute_result",
          "data": {
            "text/html": [
              "<div>\n",
              "<style scoped>\n",
              "    .dataframe tbody tr th:only-of-type {\n",
              "        vertical-align: middle;\n",
              "    }\n",
              "\n",
              "    .dataframe tbody tr th {\n",
              "        vertical-align: top;\n",
              "    }\n",
              "\n",
              "    .dataframe thead th {\n",
              "        text-align: right;\n",
              "    }\n",
              "</style>\n",
              "<table border=\"1\" class=\"dataframe\">\n",
              "  <thead>\n",
              "    <tr style=\"text-align: right;\">\n",
              "      <th></th>\n",
              "      <th>Outlook</th>\n",
              "      <th>Temperature</th>\n",
              "      <th>Humidity</th>\n",
              "      <th>Windy</th>\n",
              "    </tr>\n",
              "  </thead>\n",
              "  <tbody>\n",
              "    <tr>\n",
              "      <th>0</th>\n",
              "      <td>Sunny</td>\n",
              "      <td>20</td>\n",
              "      <td>50</td>\n",
              "      <td>False</td>\n",
              "    </tr>\n",
              "    <tr>\n",
              "      <th>1</th>\n",
              "      <td>Sunny</td>\n",
              "      <td>30</td>\n",
              "      <td>50</td>\n",
              "      <td>True</td>\n",
              "    </tr>\n",
              "    <tr>\n",
              "      <th>2</th>\n",
              "      <td>Rain</td>\n",
              "      <td>10</td>\n",
              "      <td>60</td>\n",
              "      <td>False</td>\n",
              "    </tr>\n",
              "    <tr>\n",
              "      <th>3</th>\n",
              "      <td>Rain</td>\n",
              "      <td>20</td>\n",
              "      <td>60</td>\n",
              "      <td>True</td>\n",
              "    </tr>\n",
              "  </tbody>\n",
              "</table>\n",
              "</div>"
            ],
            "text/plain": [
              "  Outlook  Temperature  Humidity  Windy\n",
              "0   Sunny           20        50  False\n",
              "1   Sunny           30        50   True\n",
              "2    Rain           10        60  False\n",
              "3    Rain           20        60   True"
            ]
          },
          "metadata": {
            "tags": []
          },
          "execution_count": 4
        }
      ]
    },
    {
      "cell_type": "code",
      "metadata": {
        "id": "fvdqU9IKEulK"
      },
      "source": [
        "def densidad(x):\n",
        "\n",
        "    media = df_train_num.groupby(['Play']).apply(np.mean)\n",
        "    std = df_train_num.groupby(['Play']).apply(np.std)\n",
        "    prob = (np.exp((-1/2)*((x-media)**2) / (2 * std))) / (np.sqrt(2 * np.pi * std))\n",
        "    return prob\n",
        "#print('La media muestral para Temperature y Humidity son, \\n', df_train_num.groupby(['Play']).apply(np.mean))\n",
        "#print('\\n')\n",
        "#print('La desviación estandar para Temperature y Humidity son, \\n', df_train_num.groupby(['Play']).apply(np.std))"
      ],
      "execution_count": null,
      "outputs": []
    },
    {
      "cell_type": "code",
      "metadata": {
        "colab": {
          "base_uri": "https://localhost:8080/",
          "height": 142
        },
        "id": "2-x6zkBJGg-Z",
        "outputId": "ec8c99d8-07d6-492a-e10b-b0e5ae1d2e48"
      },
      "source": [
        "densidad(x=20)"
      ],
      "execution_count": null,
      "outputs": [
        {
          "output_type": "execute_result",
          "data": {
            "text/html": [
              "<div>\n",
              "<style scoped>\n",
              "    .dataframe tbody tr th:only-of-type {\n",
              "        vertical-align: middle;\n",
              "    }\n",
              "\n",
              "    .dataframe tbody tr th {\n",
              "        vertical-align: top;\n",
              "    }\n",
              "\n",
              "    .dataframe thead th {\n",
              "        text-align: right;\n",
              "    }\n",
              "</style>\n",
              "<table border=\"1\" class=\"dataframe\">\n",
              "  <thead>\n",
              "    <tr style=\"text-align: right;\">\n",
              "      <th></th>\n",
              "      <th>Temperature</th>\n",
              "      <th>Humidity</th>\n",
              "    </tr>\n",
              "    <tr>\n",
              "      <th>Play</th>\n",
              "      <th></th>\n",
              "      <th></th>\n",
              "    </tr>\n",
              "  </thead>\n",
              "  <tbody>\n",
              "    <tr>\n",
              "      <th>No</th>\n",
              "      <td>0.136174</td>\n",
              "      <td>2.103407e-43</td>\n",
              "    </tr>\n",
              "    <tr>\n",
              "      <th>Yes</th>\n",
              "      <td>0.083580</td>\n",
              "      <td>6.964665e-21</td>\n",
              "    </tr>\n",
              "  </tbody>\n",
              "</table>\n",
              "</div>"
            ],
            "text/plain": [
              "      Temperature      Humidity\n",
              "Play                           \n",
              "No       0.136174  2.103407e-43\n",
              "Yes      0.083580  6.964665e-21"
            ]
          },
          "metadata": {
            "tags": []
          },
          "execution_count": 6
        }
      ]
    },
    {
      "cell_type": "code",
      "metadata": {
        "id": "U659GNKuSV7U"
      },
      "source": [
        "X = df_train_num.iloc[:,0:-1] # X is the features in our dataset\n",
        "y = df_train_num.iloc[:,-1]   # y is the Labels in our dataset"
      ],
      "execution_count": null,
      "outputs": []
    },
    {
      "cell_type": "code",
      "metadata": {
        "id": "sV7Gm4FBSeSZ"
      },
      "source": [
        "from sklearn.model_selection import train_test_split\n",
        "\n",
        "X_train, X_test, y_train, y_test = train_test_split(X, y, test_size=0.33, random_state=42)"
      ],
      "execution_count": null,
      "outputs": []
    },
    {
      "cell_type": "code",
      "metadata": {
        "colab": {
          "base_uri": "https://localhost:8080/"
        },
        "id": "EkI_uGOLSgu0",
        "outputId": "c92bf94b-ab4d-4fcc-b973-f97fc785668f"
      },
      "source": [
        "from sklearn.naive_bayes import GaussianNB\n",
        "\n",
        "model = GaussianNB().fit(X_train, y_train) \n",
        "\n",
        "predicted_y = model.predict(X_test)\n",
        "\n",
        "from sklearn.metrics import accuracy_score\n",
        "\n",
        "accuracy_score = accuracy_score(y_test, predicted_y) \n",
        "print (accuracy_score)"
      ],
      "execution_count": null,
      "outputs": [
        {
          "output_type": "stream",
          "text": [
            "0.6\n"
          ],
          "name": "stdout"
        }
      ]
    }
  ]
}